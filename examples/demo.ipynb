{
 "cells": [
  {
   "cell_type": "code",
   "execution_count": 1,
   "metadata": {
    "ExecuteTime": {
     "end_time": "2021-12-15T07:22:42.166872Z",
     "start_time": "2021-12-15T07:22:40.227581Z"
    }
   },
   "outputs": [],
   "source": [
    "import numpy as np\n",
    "import pandas as pd\n",
    "from matplotlib import pyplot as plt\n",
    "from sklearn.metrics import roc_auc_score\n",
    "from sklearn.model_selection import train_test_split\n",
    "from simtree import SIMTreeRegressor, SIMTreeClassifier\n",
    "from simtree import GLMTreeRegressor, GLMTreeClassifier"
   ]
  },
  {
   "cell_type": "markdown",
   "metadata": {},
   "source": [
    "## Regression Dataset"
   ]
  },
  {
   "cell_type": "code",
   "execution_count": 2,
   "metadata": {
    "ExecuteTime": {
     "end_time": "2021-12-15T07:22:42.220723Z",
     "start_time": "2021-12-15T07:22:42.170592Z"
    }
   },
   "outputs": [],
   "source": [
    "from sklearn.datasets import fetch_california_housing\n",
    "cal_housing = fetch_california_housing()\n",
    "train_x, test_x, train_y, test_y = train_test_split(cal_housing.data, cal_housing.target, test_size=0.2, random_state=0)"
   ]
  },
  {
   "cell_type": "code",
   "execution_count": null,
   "metadata": {
    "ExecuteTime": {
     "start_time": "2021-12-15T07:22:40.159Z"
    },
    "scrolled": true
   },
   "outputs": [],
   "source": [
    "clf = SIMTreeRegressor(max_depth=3, min_samples_leaf=50, knot_num=30,\n",
    "                        n_split_grid=20, n_screen_grid=5, n_feature_search=10,\n",
    "                        reg_lambda=np.logspace(-5, 5, 100).tolist(),\n",
    "                        reg_gamma=[1e-3, 1e-5, 1e-7])\n",
    "clf.fit(train_x, train_y)\n",
    "clf.plot_tree()\n",
    "pred_train = clf.predict(train_x).reshape([-1, 1])\n",
    "pred_test = clf.predict(test_x).reshape([-1, 1])\n",
    "np.mean((train_y - pred_train.ravel()) ** 2) ** 0.5, np.mean((test_y - pred_test.ravel()) ** 2) ** 0.5"
   ]
  },
  {
   "cell_type": "code",
   "execution_count": null,
   "metadata": {
    "ExecuteTime": {
     "start_time": "2021-12-15T07:22:40.160Z"
    }
   },
   "outputs": [],
   "source": [
    "clf = GLMTreeRegressor(max_depth=3, min_samples_leaf=50, reg_lambda=np.logspace(-5, 5, 100).tolist(),\n",
    "                        n_split_grid=20, n_screen_grid=5, n_feature_search=10)\n",
    "clf.fit(train_x, train_y)\n",
    "pred_train = clf.predict(train_x).reshape([-1, 1])\n",
    "pred_test = clf.predict(test_x).reshape([-1, 1])\n",
    "np.mean((train_y - pred_train.ravel()) ** 2) ** 0.5, np.mean((test_y - pred_test.ravel()) ** 2) ** 0.5"
   ]
  },
  {
   "cell_type": "markdown",
   "metadata": {},
   "source": [
    "## Classification Dataset"
   ]
  },
  {
   "cell_type": "code",
   "execution_count": null,
   "metadata": {
    "ExecuteTime": {
     "start_time": "2021-12-15T07:22:40.164Z"
    }
   },
   "outputs": [],
   "source": [
    "from sklearn.datasets import fetch_openml\n",
    "magic = fetch_openml(\"MagicTelescope\")\n",
    "train_x, test_x, train_y, test_y = train_test_split(magic.data, magic.target, test_size=0.2, random_state=0)"
   ]
  },
  {
   "cell_type": "code",
   "execution_count": null,
   "metadata": {
    "ExecuteTime": {
     "start_time": "2021-12-15T07:22:40.165Z"
    }
   },
   "outputs": [],
   "source": [
    "clf = SIMTreeClassifier(max_depth=3, min_samples_leaf=50, knot_num=30,\n",
    "                        n_split_grid=20, n_screen_grid=5, n_feature_search=10,\n",
    "                        reg_lambda=np.logspace(-5, 5, 100).tolist(),\n",
    "                        reg_gamma=[1e-3, 1e-5, 1e-7])\n",
    "clf.fit(train_x, train_y)\n",
    "clf.plot_tree()\n",
    "pred_train = clf.predict_proba(train_x)[:, 1]\n",
    "pred_test = clf.predict_proba(test_x)[:, 1]\n",
    "roc_auc_score(train_y, pred_train.ravel()), roc_auc_score(test_y, pred_test.ravel())"
   ]
  },
  {
   "cell_type": "code",
   "execution_count": null,
   "metadata": {
    "ExecuteTime": {
     "start_time": "2021-12-15T07:22:40.166Z"
    }
   },
   "outputs": [],
   "source": [
    "clf = GLMTreeClassifier(max_depth=3, min_samples_leaf=50, reg_lambda=np.logspace(-5, 5, 10).tolist(),\n",
    "                        n_split_grid=20, n_screen_grid=5, n_feature_search=10)\n",
    "clf.fit(train_x, train_y)\n",
    "pred_train = clf.predict_proba(train_x)[:, 1]\n",
    "pred_test = clf.predict_proba(test_x)[:, 1]\n",
    "roc_auc_score(train_y, pred_train.ravel()), roc_auc_score(test_y, pred_test.ravel())"
   ]
  }
 ],
 "metadata": {
  "kernelspec": {
   "display_name": "py37",
   "language": "python",
   "name": "py37"
  },
  "language_info": {
   "codemirror_mode": {
    "name": "ipython",
    "version": 3
   },
   "file_extension": ".py",
   "mimetype": "text/x-python",
   "name": "python",
   "nbconvert_exporter": "python",
   "pygments_lexer": "ipython3",
   "version": "3.7.7"
  },
  "latex_envs": {
   "LaTeX_envs_menu_present": true,
   "autoclose": false,
   "autocomplete": true,
   "bibliofile": "biblio.bib",
   "cite_by": "apalike",
   "current_citInitial": 1,
   "eqLabelWithNumbers": true,
   "eqNumInitial": 1,
   "hotkeys": {
    "equation": "Ctrl-E",
    "itemize": "Ctrl-I"
   },
   "labels_anchors": false,
   "latex_user_defs": false,
   "report_style_numbering": false,
   "user_envs_cfg": false
  },
  "varInspector": {
   "cols": {
    "lenName": 16,
    "lenType": 16,
    "lenVar": 40
   },
   "kernels_config": {
    "python": {
     "delete_cmd_postfix": "",
     "delete_cmd_prefix": "del ",
     "library": "var_list.py",
     "varRefreshCmd": "print(var_dic_list())"
    },
    "r": {
     "delete_cmd_postfix": ") ",
     "delete_cmd_prefix": "rm(",
     "library": "var_list.r",
     "varRefreshCmd": "cat(var_dic_list()) "
    }
   },
   "types_to_exclude": [
    "module",
    "function",
    "builtin_function_or_method",
    "instance",
    "_Feature"
   ],
   "window_display": false
  }
 },
 "nbformat": 4,
 "nbformat_minor": 2
}
