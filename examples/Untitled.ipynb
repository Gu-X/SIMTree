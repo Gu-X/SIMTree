{
 "cells": [
  {
   "cell_type": "code",
   "execution_count": 2,
   "metadata": {
    "ExecuteTime": {
     "end_time": "2020-05-06T14:07:45.863352Z",
     "start_time": "2020-05-06T14:07:45.547117Z"
    }
   },
   "outputs": [],
   "source": [
    "import numpy as np\n",
    "import pandas as pd\n",
    "from matplotlib import pyplot as plt\n",
    "from sklearn.model_selection import train_test_split\n",
    "from sklearn.datasets import fetch_california_housing\n",
    "\n",
    "from dtsim import DTSimRegressor, DTSimClassifier"
   ]
  },
  {
   "cell_type": "code",
   "execution_count": 3,
   "metadata": {
    "ExecuteTime": {
     "end_time": "2020-05-06T14:07:53.906693Z",
     "start_time": "2020-05-06T14:07:53.833664Z"
    }
   },
   "outputs": [],
   "source": [
    "cal_housing = fetch_california_housing()\n",
    "train_x, test_x, train_y, test_y = train_test_split(cal_housing.data, cal_housing.target, test_size=0.2, random_state=0)"
   ]
  },
  {
   "cell_type": "code",
   "execution_count": 4,
   "metadata": {
    "ExecuteTime": {
     "end_time": "2020-05-06T14:07:56.436612Z",
     "start_time": "2020-05-06T14:07:56.427063Z"
    }
   },
   "outputs": [
    {
     "data": {
      "text/plain": [
       "array([[   4.2386    ,    6.        ,    7.72307692, ...,    3.50769231,\n",
       "          33.83      , -117.55      ],\n",
       "       [   4.3898    ,   52.        ,    5.32662192, ...,    3.32214765,\n",
       "          37.73      , -122.44      ],\n",
       "       [   3.9333    ,   26.        ,    4.66847826, ...,    2.77717391,\n",
       "          33.83      , -118.        ],\n",
       "       ...,\n",
       "       [   3.1977    ,   31.        ,    3.64122137, ...,    1.7913486 ,\n",
       "          36.58      , -121.9       ],\n",
       "       [   5.6315    ,   34.        ,    4.54059829, ...,    2.24786325,\n",
       "          33.62      , -117.93      ],\n",
       "       [   1.3882    ,   15.        ,    3.9295302 , ...,    3.43624161,\n",
       "          32.8       , -115.56      ]])"
      ]
     },
     "execution_count": 4,
     "metadata": {},
     "output_type": "execute_result"
    }
   ],
   "source": [
    "train_x"
   ]
  }
 ],
 "metadata": {
  "kernelspec": {
   "display_name": "Python (tf2)",
   "language": "python",
   "name": "tf2"
  },
  "language_info": {
   "codemirror_mode": {
    "name": "ipython",
    "version": 3
   },
   "file_extension": ".py",
   "mimetype": "text/x-python",
   "name": "python",
   "nbconvert_exporter": "python",
   "pygments_lexer": "ipython3",
   "version": "3.6.8"
  },
  "latex_envs": {
   "LaTeX_envs_menu_present": true,
   "autoclose": false,
   "autocomplete": true,
   "bibliofile": "biblio.bib",
   "cite_by": "apalike",
   "current_citInitial": 1,
   "eqLabelWithNumbers": true,
   "eqNumInitial": 1,
   "hotkeys": {
    "equation": "Ctrl-E",
    "itemize": "Ctrl-I"
   },
   "labels_anchors": false,
   "latex_user_defs": false,
   "report_style_numbering": false,
   "user_envs_cfg": false
  },
  "varInspector": {
   "cols": {
    "lenName": 16,
    "lenType": 16,
    "lenVar": 40
   },
   "kernels_config": {
    "python": {
     "delete_cmd_postfix": "",
     "delete_cmd_prefix": "del ",
     "library": "var_list.py",
     "varRefreshCmd": "print(var_dic_list())"
    },
    "r": {
     "delete_cmd_postfix": ") ",
     "delete_cmd_prefix": "rm(",
     "library": "var_list.r",
     "varRefreshCmd": "cat(var_dic_list()) "
    }
   },
   "types_to_exclude": [
    "module",
    "function",
    "builtin_function_or_method",
    "instance",
    "_Feature"
   ],
   "window_display": false
  }
 },
 "nbformat": 4,
 "nbformat_minor": 2
}
